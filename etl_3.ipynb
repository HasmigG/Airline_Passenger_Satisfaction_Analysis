{
 "cells": [
  {
   "cell_type": "code",
   "execution_count": 18,
   "id": "e10dd6db-38b3-45ce-873f-1a65e3af516c",
   "metadata": {},
   "outputs": [
    {
     "ename": "ModuleNotFoundError",
     "evalue": "No module named 'keras_tuner'",
     "output_type": "error",
     "traceback": [
      "\u001b[0;31m---------------------------------------------------------------------------\u001b[0m",
      "\u001b[0;31mModuleNotFoundError\u001b[0m                       Traceback (most recent call last)",
      "Cell \u001b[0;32mIn[18], line 6\u001b[0m\n\u001b[1;32m      4\u001b[0m \u001b[38;5;28;01mfrom\u001b[39;00m \u001b[38;5;21;01msklearn\u001b[39;00m\u001b[38;5;21;01m.\u001b[39;00m\u001b[38;5;21;01mpreprocessing\u001b[39;00m \u001b[38;5;28;01mimport\u001b[39;00m OneHotEncoder\n\u001b[1;32m      5\u001b[0m \u001b[38;5;28;01mfrom\u001b[39;00m \u001b[38;5;21;01msklearn\u001b[39;00m\u001b[38;5;21;01m.\u001b[39;00m\u001b[38;5;21;01mmodel_selection\u001b[39;00m \u001b[38;5;28;01mimport\u001b[39;00m train_test_split\n\u001b[0;32m----> 6\u001b[0m \u001b[38;5;28;01mimport\u001b[39;00m \u001b[38;5;21;01mkeras_tuner\u001b[39;00m \u001b[38;5;28;01mas\u001b[39;00m \u001b[38;5;21;01mkt\u001b[39;00m\n\u001b[1;32m      7\u001b[0m \u001b[38;5;28;01mfrom\u001b[39;00m \u001b[38;5;21;01mtensorflow\u001b[39;00m \u001b[38;5;28;01mimport\u001b[39;00m keras\n\u001b[1;32m      8\u001b[0m \u001b[38;5;28;01mfrom\u001b[39;00m \u001b[38;5;21;01mtensorflow\u001b[39;00m\u001b[38;5;21;01m.\u001b[39;00m\u001b[38;5;21;01mkeras\u001b[39;00m \u001b[38;5;28;01mimport\u001b[39;00m layers\n",
      "\u001b[0;31mModuleNotFoundError\u001b[0m: No module named 'keras_tuner'"
     ]
    }
   ],
   "source": [
    "import pandas as pd\n",
    "from textblob import TextBlob\n",
    "import csv \n",
    "from sklearn.preprocessing import OneHotEncoder\n",
    "from sklearn.model_selection import train_test_split\n",
    "import keras_tuner as kt\n",
    "from tensorflow import keras\n",
    "from tensorflow.keras import layers\n"
   ]
  },
  {
   "cell_type": "code",
   "execution_count": 2,
   "id": "07a28098-11ce-4f91-b833-02701a033486",
   "metadata": {
    "scrolled": true
   },
   "outputs": [],
   "source": [
    "df = pd.read_csv('Resources/airlines_reviews.csv')"
   ]
  },
  {
   "cell_type": "code",
   "execution_count": 3,
   "id": "2697501e-772c-41c1-86a7-b28d8c429e6c",
   "metadata": {},
   "outputs": [],
   "source": [
    "#some work on the columns #1\n",
    "\n",
    "def column_work(df):\n",
    "    \n",
    "    #create new db with only the needed columns\n",
    "    \n",
    "    df_new = df[['Title', 'Airline', 'Reviews',\n",
    "       'Type of Traveller', 'Month Flown', 'Route', 'Class', 'Seat Comfort',\n",
    "       'Staff Service', 'Food & Beverages', 'Inflight Entertainment',\n",
    "       'Value For Money', 'Overall Rating', 'Recommended']]\n",
    "    \n",
    "    #split the month flown column into two and make the month into a number\n",
    "        # first map the month names to their numbers\n",
    "\n",
    "    num_mon = {'January': 1, 'February': 2, 'March': 3, 'April': 4, 'May': 5, 'June': 6,\n",
    "                'July': 7, 'August': 8, 'September': 9, 'October': 10, 'November': 11, 'December': 12}\n",
    "\n",
    "    df_new['Year Flown'] = df_new['Month Flown'].str.split().str[1]\n",
    "    df_new['Month Flown'] = df_new['Month Flown'].str.split().str[0].map(num_mon)\n",
    "    #df_new.loc[:,'Year Flown'] = df_new[:'Month Flown'].str.split().str[1]\n",
    "    #df_new.loc[:, 'Month Flown'] = df_new.loc[:, 'Month Flown'].str.split().str[0].map(num_mon)\n",
    "\n",
    "    df_new.head()\n",
    "\n",
    "    return df_new"
   ]
  },
  {
   "cell_type": "code",
   "execution_count": 4,
   "id": "a40dd9b0-c5b4-411f-8100-4a35c9797075",
   "metadata": {},
   "outputs": [],
   "source": [
    "# split the route column #2\n",
    "\n",
    "def split_to_via(df, column):\n",
    "    # Split the text based on separators (to, via)\n",
    "    split_values = df[column].str.split(r'(?<=\\bto\\b)|(?<=\\bvia\\b)', expand=True)\n",
    "    \n",
    "    # remove to and via from the split columns\n",
    "    split_values = split_values.apply(lambda x: x.str.replace(r'\\bto\\b|\\bvia\\b', '', regex=True))\n",
    "    \n",
    "    # Create new columns and load in the split values\n",
    "    df['Origin'] = split_values[0].str.strip()\n",
    "    df['Destination'] = split_values[1].str.split().str.join(' ').str.strip()\n",
    "    df['Via'] = split_values[2].str.split().str.join(' ').str.strip()\n",
    "    \n",
    "    return df"
   ]
  },
  {
   "cell_type": "code",
   "execution_count": 5,
   "id": "2d55ee55-2a29-49de-a5dd-6fddf3d2c1ac",
   "metadata": {},
   "outputs": [],
   "source": [
    "## text blobs #3\n",
    "def blob_function(df):\n",
    "\n",
    "    # extract the comments and ratings into a list\n",
    "\n",
    "    titles = df['Title'].to_list()\n",
    "    comments = df['Reviews'].to_list()\n",
    "\n",
    "    # create a blank list to hold the blob\n",
    "\n",
    "    polarities = []\n",
    "    subjectivities = []\n",
    "\n",
    "    # Analyze the sentiment of each comment \n",
    "\n",
    "    for comment in comments:\n",
    "      blob = TextBlob(comment)\n",
    "      polarity = blob.sentiment.polarity\n",
    "      subjectivity = blob.sentiment.subjectivity\n",
    "      polarities.append(polarity)\n",
    "      subjectivities.append(subjectivity)\n",
    "    \n",
    "     \n",
    "    # add values to new df columns\n",
    "\n",
    "    df['Comment Polarity'] = pd.Series(polarities)\n",
    "    df['Comment Subjectivity'] = pd.Series(subjectivities)\n",
    "\n",
    "    # erase lists to hold the blob\n",
    "\n",
    "    polarities = []\n",
    "    subjectivities = []    \n",
    "\n",
    "    # Analyze the sentiment of each title\n",
    "\n",
    "    for title in titles:\n",
    "      blob = TextBlob(title)\n",
    "      polarity = blob.sentiment.polarity\n",
    "      subjectivity = blob.sentiment.subjectivity\n",
    "      polarities.append(polarity)\n",
    "      subjectivities.append(subjectivity)\n",
    "\n",
    "     # add values to new df columns\n",
    "\n",
    "    df['Title Polarity'] = pd.Series(polarities)\n",
    "    df['Title Subjectivity'] = pd.Series(subjectivities)\n",
    "    \n",
    "    return df"
   ]
  },
  {
   "cell_type": "code",
   "execution_count": 6,
   "id": "7cd3f3a4-c9d9-4d97-8b7c-dae3e9a550b3",
   "metadata": {},
   "outputs": [],
   "source": [
    "# begin the one hot encoding #4\n",
    "\n",
    "def one_hot_e (df):\n",
    "    # get dummies \n",
    "    df = pd.get_dummies(df, columns = ['Class', 'Type of Traveller'])\n",
    "    return df"
   ]
  },
  {
   "cell_type": "code",
   "execution_count": 7,
   "id": "ab8d0219-bdda-4df2-ae6c-dcd956cedad7",
   "metadata": {},
   "outputs": [],
   "source": [
    "# more column work #5\n",
    "\n",
    "def col_work_dos(df):\n",
    "    #drop some columns\n",
    "    \n",
    "    df_renew = df[[ 'Airline', 'Month Flown', 'Year Flown', 'Seat Comfort',\n",
    "       'Staff Service', 'Food & Beverages', 'Inflight Entertainment',\n",
    "       'Value For Money', 'Overall Rating', 'Recommended', \n",
    "       'Origin', 'Destination', 'Via', 'Comment Polarity',\n",
    "       'Comment Subjectivity', 'Title Polarity', 'Title Subjectivity',\n",
    "       'Class_Business Class', 'Class_Economy Class', 'Class_First Class',\n",
    "       'Class_Premium Economy', 'Type of Traveller_Business',\n",
    "       'Type of Traveller_Couple Leisure', 'Type of Traveller_Family Leisure',\n",
    "       'Type of Traveller_Solo Leisure']]\n",
    "    \n",
    "    \n",
    "    # reformat recommended column values\n",
    "    df_renew ['Recommended'] = df_renew['Recommended'].replace({'no':0, 'yes':1})\n",
    "\n",
    "    return df_renew"
   ]
  },
  {
   "cell_type": "code",
   "execution_count": 8,
   "id": "ea9adbfd-745e-472b-afe5-0d1bf6e4a32d",
   "metadata": {},
   "outputs": [
    {
     "name": "stderr",
     "output_type": "stream",
     "text": [
      "/var/folders/gw/49dbrphx3bd0c4cm_7kpyb_m0000gn/T/ipykernel_8469/4156166323.py:18: SettingWithCopyWarning: \n",
      "A value is trying to be set on a copy of a slice from a DataFrame.\n",
      "Try using .loc[row_indexer,col_indexer] = value instead\n",
      "\n",
      "See the caveats in the documentation: https://pandas.pydata.org/pandas-docs/stable/user_guide/indexing.html#returning-a-view-versus-a-copy\n",
      "  df_new['Year Flown'] = df_new['Month Flown'].str.split().str[1]\n",
      "/var/folders/gw/49dbrphx3bd0c4cm_7kpyb_m0000gn/T/ipykernel_8469/4156166323.py:19: SettingWithCopyWarning: \n",
      "A value is trying to be set on a copy of a slice from a DataFrame.\n",
      "Try using .loc[row_indexer,col_indexer] = value instead\n",
      "\n",
      "See the caveats in the documentation: https://pandas.pydata.org/pandas-docs/stable/user_guide/indexing.html#returning-a-view-versus-a-copy\n",
      "  df_new['Month Flown'] = df_new['Month Flown'].str.split().str[0].map(num_mon)\n"
     ]
    }
   ],
   "source": [
    "df_c = column_work(df) "
   ]
  },
  {
   "cell_type": "code",
   "execution_count": 9,
   "id": "42fc467a-c8b2-4bbf-b779-d346a40c571d",
   "metadata": {},
   "outputs": [
    {
     "name": "stderr",
     "output_type": "stream",
     "text": [
      "/var/folders/gw/49dbrphx3bd0c4cm_7kpyb_m0000gn/T/ipykernel_8469/2516061190.py:11: SettingWithCopyWarning: \n",
      "A value is trying to be set on a copy of a slice from a DataFrame.\n",
      "Try using .loc[row_indexer,col_indexer] = value instead\n",
      "\n",
      "See the caveats in the documentation: https://pandas.pydata.org/pandas-docs/stable/user_guide/indexing.html#returning-a-view-versus-a-copy\n",
      "  df['Origin'] = split_values[0].str.strip()\n"
     ]
    }
   ],
   "source": [
    "df_stv = split_to_via(df_c, 'Route')"
   ]
  },
  {
   "cell_type": "code",
   "execution_count": 10,
   "id": "466a3134-2d76-481b-8c15-b6f495fff96b",
   "metadata": {},
   "outputs": [],
   "source": [
    "df_blob = blob_function(df_stv)"
   ]
  },
  {
   "cell_type": "code",
   "execution_count": 11,
   "id": "f297c942-f145-450a-be66-5a57098d19c1",
   "metadata": {},
   "outputs": [],
   "source": [
    "hot_df = one_hot_e(df_blob)"
   ]
  },
  {
   "cell_type": "code",
   "execution_count": 12,
   "id": "df31242c-8527-4ae9-81c6-9ef41fe118fb",
   "metadata": {},
   "outputs": [
    {
     "name": "stderr",
     "output_type": "stream",
     "text": [
      "/var/folders/gw/49dbrphx3bd0c4cm_7kpyb_m0000gn/T/ipykernel_8469/1618135757.py:18: FutureWarning: Downcasting behavior in `replace` is deprecated and will be removed in a future version. To retain the old behavior, explicitly call `result.infer_objects(copy=False)`. To opt-in to the future behavior, set `pd.set_option('future.no_silent_downcasting', True)`\n",
      "  df_renew ['Recommended'] = df_renew['Recommended'].replace({'no':0, 'yes':1})\n",
      "/var/folders/gw/49dbrphx3bd0c4cm_7kpyb_m0000gn/T/ipykernel_8469/1618135757.py:18: SettingWithCopyWarning: \n",
      "A value is trying to be set on a copy of a slice from a DataFrame.\n",
      "Try using .loc[row_indexer,col_indexer] = value instead\n",
      "\n",
      "See the caveats in the documentation: https://pandas.pydata.org/pandas-docs/stable/user_guide/indexing.html#returning-a-view-versus-a-copy\n",
      "  df_renew ['Recommended'] = df_renew['Recommended'].replace({'no':0, 'yes':1})\n"
     ]
    }
   ],
   "source": [
    "df_data = col_work_dos(hot_df)"
   ]
  },
  {
   "cell_type": "code",
   "execution_count": 17,
   "id": "8cf314c2-3d2b-4feb-8ad4-1e79f882d895",
   "metadata": {},
   "outputs": [
    {
     "data": {
      "text/html": [
       "<div>\n",
       "<style scoped>\n",
       "    .dataframe tbody tr th:only-of-type {\n",
       "        vertical-align: middle;\n",
       "    }\n",
       "\n",
       "    .dataframe tbody tr th {\n",
       "        vertical-align: top;\n",
       "    }\n",
       "\n",
       "    .dataframe thead th {\n",
       "        text-align: right;\n",
       "    }\n",
       "</style>\n",
       "<table border=\"1\" class=\"dataframe\">\n",
       "  <thead>\n",
       "    <tr style=\"text-align: right;\">\n",
       "      <th></th>\n",
       "      <th>Airline</th>\n",
       "      <th>Month Flown</th>\n",
       "      <th>Year Flown</th>\n",
       "      <th>Seat Comfort</th>\n",
       "      <th>Staff Service</th>\n",
       "      <th>Food &amp; Beverages</th>\n",
       "      <th>Inflight Entertainment</th>\n",
       "      <th>Value For Money</th>\n",
       "      <th>Overall Rating</th>\n",
       "      <th>Recommended</th>\n",
       "      <th>...</th>\n",
       "      <th>Title Polarity</th>\n",
       "      <th>Title Subjectivity</th>\n",
       "      <th>Class_Business Class</th>\n",
       "      <th>Class_Economy Class</th>\n",
       "      <th>Class_First Class</th>\n",
       "      <th>Class_Premium Economy</th>\n",
       "      <th>Type of Traveller_Business</th>\n",
       "      <th>Type of Traveller_Couple Leisure</th>\n",
       "      <th>Type of Traveller_Family Leisure</th>\n",
       "      <th>Type of Traveller_Solo Leisure</th>\n",
       "    </tr>\n",
       "  </thead>\n",
       "  <tbody>\n",
       "    <tr>\n",
       "      <th>0</th>\n",
       "      <td>Singapore Airlines</td>\n",
       "      <td>12</td>\n",
       "      <td>2023</td>\n",
       "      <td>4</td>\n",
       "      <td>4</td>\n",
       "      <td>4</td>\n",
       "      <td>4</td>\n",
       "      <td>4</td>\n",
       "      <td>9</td>\n",
       "      <td>1</td>\n",
       "      <td>...</td>\n",
       "      <td>0.6</td>\n",
       "      <td>0.9</td>\n",
       "      <td>True</td>\n",
       "      <td>False</td>\n",
       "      <td>False</td>\n",
       "      <td>False</td>\n",
       "      <td>False</td>\n",
       "      <td>False</td>\n",
       "      <td>False</td>\n",
       "      <td>True</td>\n",
       "    </tr>\n",
       "    <tr>\n",
       "      <th>1</th>\n",
       "      <td>Singapore Airlines</td>\n",
       "      <td>2</td>\n",
       "      <td>2024</td>\n",
       "      <td>5</td>\n",
       "      <td>3</td>\n",
       "      <td>4</td>\n",
       "      <td>4</td>\n",
       "      <td>1</td>\n",
       "      <td>3</td>\n",
       "      <td>0</td>\n",
       "      <td>...</td>\n",
       "      <td>-1.0</td>\n",
       "      <td>1.0</td>\n",
       "      <td>False</td>\n",
       "      <td>True</td>\n",
       "      <td>False</td>\n",
       "      <td>False</td>\n",
       "      <td>False</td>\n",
       "      <td>False</td>\n",
       "      <td>False</td>\n",
       "      <td>True</td>\n",
       "    </tr>\n",
       "    <tr>\n",
       "      <th>2</th>\n",
       "      <td>Singapore Airlines</td>\n",
       "      <td>2</td>\n",
       "      <td>2024</td>\n",
       "      <td>1</td>\n",
       "      <td>5</td>\n",
       "      <td>2</td>\n",
       "      <td>1</td>\n",
       "      <td>5</td>\n",
       "      <td>10</td>\n",
       "      <td>1</td>\n",
       "      <td>...</td>\n",
       "      <td>0.0</td>\n",
       "      <td>0.0</td>\n",
       "      <td>False</td>\n",
       "      <td>True</td>\n",
       "      <td>False</td>\n",
       "      <td>False</td>\n",
       "      <td>False</td>\n",
       "      <td>False</td>\n",
       "      <td>True</td>\n",
       "      <td>False</td>\n",
       "    </tr>\n",
       "  </tbody>\n",
       "</table>\n",
       "<p>3 rows × 25 columns</p>\n",
       "</div>"
      ],
      "text/plain": [
       "              Airline  Month Flown Year Flown  Seat Comfort  Staff Service  \\\n",
       "0  Singapore Airlines           12       2023             4              4   \n",
       "1  Singapore Airlines            2       2024             5              3   \n",
       "2  Singapore Airlines            2       2024             1              5   \n",
       "\n",
       "   Food & Beverages  Inflight Entertainment  Value For Money  Overall Rating  \\\n",
       "0                 4                       4                4               9   \n",
       "1                 4                       4                1               3   \n",
       "2                 2                       1                5              10   \n",
       "\n",
       "   Recommended  ... Title Polarity Title Subjectivity Class_Business Class  \\\n",
       "0            1  ...            0.6                0.9                 True   \n",
       "1            0  ...           -1.0                1.0                False   \n",
       "2            1  ...            0.0                0.0                False   \n",
       "\n",
       "   Class_Economy Class  Class_First Class  Class_Premium Economy  \\\n",
       "0                False              False                  False   \n",
       "1                 True              False                  False   \n",
       "2                 True              False                  False   \n",
       "\n",
       "   Type of Traveller_Business  Type of Traveller_Couple Leisure  \\\n",
       "0                       False                             False   \n",
       "1                       False                             False   \n",
       "2                       False                             False   \n",
       "\n",
       "   Type of Traveller_Family Leisure  Type of Traveller_Solo Leisure  \n",
       "0                             False                            True  \n",
       "1                             False                            True  \n",
       "2                              True                           False  \n",
       "\n",
       "[3 rows x 25 columns]"
      ]
     },
     "execution_count": 17,
     "metadata": {},
     "output_type": "execute_result"
    }
   ],
   "source": [
    "df_data.head(3)"
   ]
  },
  {
   "cell_type": "code",
   "execution_count": 13,
   "id": "e06fe9e6-7343-4b0d-a0d4-0fbef5ce67d8",
   "metadata": {},
   "outputs": [
    {
     "data": {
      "text/plain": [
       "Index(['Title', 'Airline', 'Reviews', 'Month Flown', 'Route', 'Seat Comfort',\n",
       "       'Staff Service', 'Food & Beverages', 'Inflight Entertainment',\n",
       "       'Value For Money', 'Overall Rating', 'Recommended', 'Year Flown',\n",
       "       'Origin', 'Destination', 'Via', 'Comment Polarity',\n",
       "       'Comment Subjectivity', 'Title Polarity', 'Title Subjectivity',\n",
       "       'Class_Business Class', 'Class_Economy Class', 'Class_First Class',\n",
       "       'Class_Premium Economy', 'Type of Traveller_Business',\n",
       "       'Type of Traveller_Couple Leisure', 'Type of Traveller_Family Leisure',\n",
       "       'Type of Traveller_Solo Leisure'],\n",
       "      dtype='object')"
      ]
     },
     "execution_count": 13,
     "metadata": {},
     "output_type": "execute_result"
    }
   ],
   "source": [
    "hot_df.columns"
   ]
  },
  {
   "cell_type": "code",
   "execution_count": 14,
   "id": "521da14b-2d43-42c6-b309-3bed14d6d004",
   "metadata": {},
   "outputs": [
    {
     "data": {
      "text/plain": [
       "Index(['Title', 'Airline', 'Reviews', 'Type of Traveller', 'Month Flown',\n",
       "       'Route', 'Class', 'Seat Comfort', 'Staff Service', 'Food & Beverages',\n",
       "       'Inflight Entertainment', 'Value For Money', 'Overall Rating',\n",
       "       'Recommended', 'Year Flown', 'Origin', 'Destination', 'Via',\n",
       "       'Comment Polarity', 'Comment Subjectivity', 'Title Polarity',\n",
       "       'Title Subjectivity'],\n",
       "      dtype='object')"
      ]
     },
     "execution_count": 14,
     "metadata": {},
     "output_type": "execute_result"
    }
   ],
   "source": [
    "df_blob.columns"
   ]
  },
  {
   "cell_type": "code",
   "execution_count": 15,
   "id": "24ed25cb-9aa6-457b-91d4-070cf4d1560d",
   "metadata": {},
   "outputs": [],
   "source": [
    "def machine_fun(df):\n",
    "    #begin the machine\n",
    "\n",
    "    X_train, X_test, y_train, y_test = train_test_split(X,y, test_size = .2, random_state = 43)\n",
    "    "
   ]
  },
  {
   "cell_type": "code",
   "execution_count": 16,
   "id": "099fd5e2-eecd-481f-9aa3-e083e139c70b",
   "metadata": {
    "scrolled": true
   },
   "outputs": [
    {
     "ename": "NameError",
     "evalue": "name 'polarities' is not defined",
     "output_type": "error",
     "traceback": [
      "\u001b[0;31m---------------------------------------------------------------------------\u001b[0m",
      "\u001b[0;31mNameError\u001b[0m                                 Traceback (most recent call last)",
      "Cell \u001b[0;32mIn[16], line 4\u001b[0m\n\u001b[1;32m      2\u001b[0m \u001b[38;5;28;01mimport\u001b[39;00m \u001b[38;5;21;01mmatplotlib\u001b[39;00m\u001b[38;5;21;01m.\u001b[39;00m\u001b[38;5;21;01mpyplot\u001b[39;00m \u001b[38;5;28;01mas\u001b[39;00m \u001b[38;5;21;01mplt\u001b[39;00m\n\u001b[1;32m      3\u001b[0m plt\u001b[38;5;241m.\u001b[39mfigure(figsize\u001b[38;5;241m=\u001b[39m(\u001b[38;5;241m8\u001b[39m, \u001b[38;5;241m6\u001b[39m))\n\u001b[0;32m----> 4\u001b[0m scatter \u001b[38;5;241m=\u001b[39m plt\u001b[38;5;241m.\u001b[39mscatter(\u001b[43mpolarities\u001b[49m, subjectivities, c\u001b[38;5;241m=\u001b[39mrate, cmap\u001b[38;5;241m=\u001b[39m\u001b[38;5;124m'\u001b[39m\u001b[38;5;124mviridis\u001b[39m\u001b[38;5;124m'\u001b[39m, alpha\u001b[38;5;241m=\u001b[39m\u001b[38;5;241m0.5\u001b[39m)\n\u001b[1;32m      5\u001b[0m plt\u001b[38;5;241m.\u001b[39mxlabel(\u001b[38;5;124m'\u001b[39m\u001b[38;5;124mPolarity\u001b[39m\u001b[38;5;124m'\u001b[39m)\n\u001b[1;32m      6\u001b[0m plt\u001b[38;5;241m.\u001b[39mylabel(\u001b[38;5;124m'\u001b[39m\u001b[38;5;124mSubjectivity\u001b[39m\u001b[38;5;124m'\u001b[39m)\n",
      "\u001b[0;31mNameError\u001b[0m: name 'polarities' is not defined"
     ]
    },
    {
     "data": {
      "text/plain": [
       "<Figure size 800x600 with 0 Axes>"
      ]
     },
     "metadata": {},
     "output_type": "display_data"
    }
   ],
   "source": [
    "rate = df['Overall Rating']\n",
    "import matplotlib.pyplot as plt\n",
    "plt.figure(figsize=(8, 6))\n",
    "scatter = plt.scatter(polarities, subjectivities, c=rate, cmap='viridis', alpha=0.5)\n",
    "plt.xlabel('Polarity')\n",
    "plt.ylabel('Subjectivity')\n",
    "plt.title('Polarity vs. Subjectivity')\n",
    "plt.show()"
   ]
  },
  {
   "cell_type": "code",
   "execution_count": null,
   "id": "b27243c5-d862-40bb-accc-a77ca8d665c1",
   "metadata": {},
   "outputs": [],
   "source": [
    "df_blob[\"Class\"].unique()"
   ]
  },
  {
   "cell_type": "code",
   "execution_count": null,
   "id": "e77d7a52-7b86-4b51-9c95-4ef890b2c544",
   "metadata": {},
   "outputs": [],
   "source": []
  }
 ],
 "metadata": {
  "kernelspec": {
   "display_name": "dev",
   "language": "python",
   "name": "dev"
  },
  "language_info": {
   "codemirror_mode": {
    "name": "ipython",
    "version": 3
   },
   "file_extension": ".py",
   "mimetype": "text/x-python",
   "name": "python",
   "nbconvert_exporter": "python",
   "pygments_lexer": "ipython3",
   "version": "3.10.9"
  }
 },
 "nbformat": 4,
 "nbformat_minor": 5
}

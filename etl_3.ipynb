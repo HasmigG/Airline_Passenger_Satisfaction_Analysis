{
 "cells": [
  {
   "cell_type": "code",
   "execution_count": null,
   "id": "e10dd6db-38b3-45ce-873f-1a65e3af516c",
   "metadata": {},
   "outputs": [],
   "source": [
    "import pandas as pd\n",
    "from textblob import TextBlob\n",
    "import csv \n",
    "from sklearn.preprocessing import OneHotEncoder\n",
    "from sklearn.model_selection import train_test_split\n"
   ]
  },
  {
   "cell_type": "code",
   "execution_count": null,
   "id": "07a28098-11ce-4f91-b833-02701a033486",
   "metadata": {
    "scrolled": true
   },
   "outputs": [],
   "source": [
    "df = pd.read_csv('Resources/airlines_reviews.csv')"
   ]
  },
  {
   "cell_type": "code",
   "execution_count": null,
   "id": "2697501e-772c-41c1-86a7-b28d8c429e6c",
   "metadata": {},
   "outputs": [],
   "source": [
    "#some work on the columns #1\n",
    "\n",
    "def column_work(df):\n",
    "    \n",
    "    #create new db with only the needed columns\n",
    "    \n",
    "    df_new = df[['Title', 'Airline', 'Reviews',\n",
    "       'Type of Traveller', 'Month Flown', 'Route', 'Class', 'Seat Comfort',\n",
    "       'Staff Service', 'Food & Beverages', 'Inflight Entertainment',\n",
    "       'Value For Money', 'Overall Rating', 'Recommended']]\n",
    "    \n",
    "    #split the month flown column into two and make the month into a number\n",
    "        # first map the month names to their numbers\n",
    "\n",
    "    num_mon = {'January': 1, 'February': 2, 'March': 3, 'April': 4, 'May': 5, 'June': 6,\n",
    "                'July': 7, 'August': 8, 'September': 9, 'October': 10, 'November': 11, 'December': 12}\n",
    "\n",
    "    df_new['Year Flown'] = df_new['Month Flown'].str.split().str[1]\n",
    "    df_new['Month Flown'] = df_new['Month Flown'].str.split().str[0].map(num_mon)\n",
    "    #df_new.loc[:,'Year Flown'] = df_new[:'Month Flown'].str.split().str[1]\n",
    "    #df_new.loc[:, 'Month Flown'] = df_new.loc[:, 'Month Flown'].str.split().str[0].map(num_mon)\n",
    "\n",
    "    df_new.head()\n",
    "\n",
    "    return df_new"
   ]
  },
  {
   "cell_type": "code",
   "execution_count": null,
   "id": "a40dd9b0-c5b4-411f-8100-4a35c9797075",
   "metadata": {},
   "outputs": [],
   "source": [
    "# split the route column #2\n",
    "\n",
    "def split_to_via(df, column):\n",
    "    # Split the text based on separators (to, via)\n",
    "    split_values = df[column].str.split(r'(?<=\\bto\\b)|(?<=\\bvia\\b)', expand=True)\n",
    "    \n",
    "    # remove to and via from the split columns\n",
    "    split_values = split_values.apply(lambda x: x.str.replace(r'\\bto\\b|\\bvia\\b', '', regex=True))\n",
    "    \n",
    "    # Create new columns and load in the split values\n",
    "    df['Origin'] = split_values[0].str.strip()\n",
    "    df['Destination'] = split_values[1].str.split().str.join(' ').str.strip()\n",
    "    df['Via'] = split_values[2].str.split().str.join(' ').str.strip()\n",
    "    \n",
    "    return df"
   ]
  },
  {
   "cell_type": "code",
   "execution_count": null,
   "id": "2d55ee55-2a29-49de-a5dd-6fddf3d2c1ac",
   "metadata": {},
   "outputs": [],
   "source": [
    "## text blobs #3\n",
    "def blob_function(df):\n",
    "\n",
    "    # extract the comments and ratings into a list\n",
    "\n",
    "    titles = df['Title'].to_list()\n",
    "    comments = df['Reviews'].to_list()\n",
    "\n",
    "    # create a blank list to hold the blob\n",
    "\n",
    "    polarities = []\n",
    "    subjectivities = []\n",
    "\n",
    "    # Analyze the sentiment of each comment \n",
    "\n",
    "    for comment in comments:\n",
    "      blob = TextBlob(comment)\n",
    "      polarity = blob.sentiment.polarity\n",
    "      subjectivity = blob.sentiment.subjectivity\n",
    "      polarities.append(polarity)\n",
    "      subjectivities.append(subjectivity)\n",
    "    \n",
    "     \n",
    "    # add values to new df columns\n",
    "\n",
    "    df['Comment Polarity'] = pd.Series(polarities)\n",
    "    df['Comment Subjectivity'] = pd.Series(subjectivities)\n",
    "\n",
    "    # erase lists to hold the blob\n",
    "\n",
    "    polarities = []\n",
    "    subjectivities = []    \n",
    "\n",
    "    # Analyze the sentiment of each title\n",
    "\n",
    "    for title in titles:\n",
    "      blob = TextBlob(title)\n",
    "      polarity = blob.sentiment.polarity\n",
    "      subjectivity = blob.sentiment.subjectivity\n",
    "      polarities.append(polarity)\n",
    "      subjectivities.append(subjectivity)\n",
    "\n",
    "     # add values to new df columns\n",
    "\n",
    "    df['Title Polarity'] = pd.Series(polarities)\n",
    "    df['Title Subjectivity'] = pd.Series(subjectivities)\n",
    "    \n",
    "    return df"
   ]
  },
  {
   "cell_type": "code",
   "execution_count": null,
   "id": "7cd3f3a4-c9d9-4d97-8b7c-dae3e9a550b3",
   "metadata": {},
   "outputs": [],
   "source": [
    "# begin the one hot encoding #4\n",
    "\n",
    "def one_hot_e (df):\n",
    "    # get dummies \n",
    "    df = pd.get_dummies(df, columns = ['Class', 'Type of Traveller'])\n",
    "    return df"
   ]
  },
  {
   "cell_type": "code",
   "execution_count": null,
   "id": "ab8d0219-bdda-4df2-ae6c-dcd956cedad7",
   "metadata": {},
   "outputs": [],
   "source": [
    "# more column work #5\n",
    "\n",
    "def col_work_dos(df):\n",
    "    #drop some columns\n",
    "    \n",
    "    df_renew = df[[ 'Airline', 'Month Flown', 'Year Flown', 'Seat Comfort',\n",
    "       'Staff Service', 'Food & Beverages', 'Inflight Entertainment',\n",
    "       'Value For Money', 'Overall Rating', 'Recommended', \n",
    "       'Origin', 'Destination', 'Via', 'Comment Polarity',\n",
    "       'Comment Subjectivity', 'Title Polarity', 'Title Subjectivity',\n",
    "       'Class_Business Class', 'Class_Economy Class', 'Class_First Class',\n",
    "       'Class_Premium Economy', 'Type of Traveller_Business',\n",
    "       'Type of Traveller_Couple Leisure', 'Type of Traveller_Family Leisure',\n",
    "       'Type of Traveller_Solo Leisure']]\n",
    "    \n",
    "    \n",
    "    # reformat recommended column values\n",
    "    df_renew ['Recommended'] = df_renew['Recommended'].replace({'no':0, 'yes':1})\n",
    "\n",
    "    return df_renew"
   ]
  },
  {
   "cell_type": "code",
   "execution_count": null,
   "id": "ea9adbfd-745e-472b-afe5-0d1bf6e4a32d",
   "metadata": {},
   "outputs": [],
   "source": [
    "df_c = column_work(df) "
   ]
  },
  {
   "cell_type": "code",
   "execution_count": null,
   "id": "42fc467a-c8b2-4bbf-b779-d346a40c571d",
   "metadata": {},
   "outputs": [],
   "source": [
    "df_stv = split_to_via(df_c, 'Route')"
   ]
  },
  {
   "cell_type": "code",
   "execution_count": null,
   "id": "466a3134-2d76-481b-8c15-b6f495fff96b",
   "metadata": {},
   "outputs": [],
   "source": [
    "df_blob = blob_function(df_stv)"
   ]
  },
  {
   "cell_type": "code",
   "execution_count": null,
   "id": "f297c942-f145-450a-be66-5a57098d19c1",
   "metadata": {},
   "outputs": [],
   "source": [
    "hot_df = one_hot_e(df_blob)"
   ]
  },
  {
   "cell_type": "code",
   "execution_count": null,
   "id": "df31242c-8527-4ae9-81c6-9ef41fe118fb",
   "metadata": {},
   "outputs": [],
   "source": [
    "df_data = col_work_dos(hot_df)"
   ]
  },
  {
   "cell_type": "code",
   "execution_count": null,
   "id": "8cf314c2-3d2b-4feb-8ad4-1e79f882d895",
   "metadata": {},
   "outputs": [],
   "source": []
  },
  {
   "cell_type": "code",
   "execution_count": null,
   "id": "e06fe9e6-7343-4b0d-a0d4-0fbef5ce67d8",
   "metadata": {},
   "outputs": [],
   "source": [
    "hot_df.columns"
   ]
  },
  {
   "cell_type": "code",
   "execution_count": null,
   "id": "521da14b-2d43-42c6-b309-3bed14d6d004",
   "metadata": {},
   "outputs": [],
   "source": [
    "df_blob.columns"
   ]
  },
  {
   "cell_type": "code",
   "execution_count": null,
   "id": "24ed25cb-9aa6-457b-91d4-070cf4d1560d",
   "metadata": {},
   "outputs": [],
   "source": [
    "def machine_fun(df):\n",
    "    #begin the machine\n",
    "\n",
    "    X_train, X_test, y_train, y_test = train_test_split(X,y, test_size = .2, random_state = 43)\n",
    "    "
   ]
  },
  {
   "cell_type": "code",
   "execution_count": null,
   "id": "099fd5e2-eecd-481f-9aa3-e083e139c70b",
   "metadata": {
    "scrolled": true
   },
   "outputs": [],
   "source": [
    "rate = df['Overall Rating']\n",
    "import matplotlib.pyplot as plt\n",
    "plt.figure(figsize=(8, 6))\n",
    "scatter = plt.scatter(polarities, subjectivities, c=rate, cmap='viridis', alpha=0.5)\n",
    "plt.xlabel('Polarity')\n",
    "plt.ylabel('Subjectivity')\n",
    "plt.title('Polarity vs. Subjectivity')\n",
    "plt.show()"
   ]
  },
  {
   "cell_type": "code",
   "execution_count": null,
   "id": "b27243c5-d862-40bb-accc-a77ca8d665c1",
   "metadata": {},
   "outputs": [],
   "source": [
    "df_blob[\"Class\"].unique()"
   ]
  },
  {
   "cell_type": "code",
   "execution_count": null,
   "id": "e77d7a52-7b86-4b51-9c95-4ef890b2c544",
   "metadata": {},
   "outputs": [],
   "source": []
  }
 ],
 "metadata": {
  "kernelspec": {
   "display_name": "dev",
   "language": "python",
   "name": "dev"
  },
  "language_info": {
   "codemirror_mode": {
    "name": "ipython",
    "version": 3
   },
   "file_extension": ".py",
   "mimetype": "text/x-python",
   "name": "python",
   "nbconvert_exporter": "python",
   "pygments_lexer": "ipython3",
   "version": "3.10.9"
  }
 },
 "nbformat": 4,
 "nbformat_minor": 5
}
